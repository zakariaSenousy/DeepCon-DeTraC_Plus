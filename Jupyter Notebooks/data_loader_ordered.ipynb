{
 "cells": [
  {
   "cell_type": "code",
   "execution_count": null,
   "metadata": {
    "id": "QQhE82WWiefL"
   },
   "outputs": [],
   "source": [
    "import os\n",
    "from sklearn.model_selection import train_test_split\n",
    "from sklearn.utils import shuffle as sk_shuffle\n",
    "from google.colab import drive\n",
    "from PIL import Image\n",
    "import numpy as np\n",
    "import matplotlib.pyplot as plt\n",
    "import random\n",
    "from tqdm import tqdm"
   ]
  },
  {
   "cell_type": "code",
   "execution_count": null,
   "metadata": {
    "id": "XMC7A6UIgIMl"
   },
   "outputs": [],
   "source": [
    "def read_data(DATA_DIR, skip_classes):\n",
    "  X = []\n",
    "  y = []\n",
    "  label = 0\n",
    "  data_dict = dict()\n",
    "  folders = sorted(os.listdir(DATA_DIR))\n",
    "  num_classes = len(folders) - len(skip_classes)\n",
    "\n",
    "  for i, class_folder in enumerate(folders):\n",
    "    print(f\"Loading {class_folder}...\")\n",
    "    if i in skip_classes:\n",
    "      continue\n",
    "    # append n times to labels (n img per folder)\n",
    "    class_path = os.path.join(DATA_DIR, class_folder)\n",
    "    files = os.listdir(class_path)\n",
    "    for img in tqdm(files):\n",
    "      img_path = os.path.join(class_path, img)\n",
    "      im_arr = np.asarray(Image.open(img_path))\n",
    "      data_dict[img] = (im_arr, label)\n",
    "    label += 1\n",
    "\n",
    "  for key in sorted(data_dict.keys()):\n",
    "    X_n, y_n = data_dict[key]\n",
    "    X.append(X_n)\n",
    "    y.append(y_n)\n",
    "  print(\"Done\")\n",
    "  return np.array(X), np.array(y), num_classes"
   ]
  },
  {
   "cell_type": "code",
   "execution_count": null,
   "metadata": {
    "id": "atWwxEExf0vd"
   },
   "outputs": [],
   "source": [
    "def load_data(DATA_DIR, skip_classes, test_split=0.2, random_state=42, shuffle=True):\n",
    "  X, y, num_classes = read_data(DATA_DIR, skip_classes)\n",
    "  if not test_split:\n",
    "    if shuffle:\n",
    "      X, y = sk_shuffle(X, y, random_state=random_state)\n",
    "    return X, y, num_classes\n",
    "  X_train, X_test, y_train, y_test = train_test_split(\n",
    "      X, y, test_size=test_split, shuffle=shuffle, random_state=random_state)\n",
    "  return X_train, X_test, y_train, y_test, num_classes"
   ]
  },
  {
   "cell_type": "code",
   "execution_count": null,
   "metadata": {
    "id": "4M4-t7ZrjSy_"
   },
   "outputs": [],
   "source": [
    "if __name__ == \"__main__\":\n",
    "  drive.mount('/content/drive/')\n",
    "  data_dir = '/content/drive/MyDrive/FYP/Kather_decomposed'\n",
    "  # X_train, X_test, y_train, y_test = load_data(data_dir, skip_classes = [1,2,3,4,5,7], test_split=0.2)\n",
    "  X, y, num_classes = load_data(data_dir, skip_classes = [], test_split=0)"
   ]
  }
 ],
 "metadata": {
  "colab": {
   "collapsed_sections": [],
   "name": "Copy of data_loader_ordered.ipynb",
   "provenance": [
    {
     "file_id": "1lHsbYn40TszXUYowEvQkw9bSxkfGtEnA",
     "timestamp": 1651395059234
    }
   ]
  },
  "kernelspec": {
   "display_name": "Python 3 (ipykernel)",
   "language": "python",
   "name": "python3"
  },
  "language_info": {
   "codemirror_mode": {
    "name": "ipython",
    "version": 3
   },
   "file_extension": ".py",
   "mimetype": "text/x-python",
   "name": "python",
   "nbconvert_exporter": "python",
   "pygments_lexer": "ipython3",
   "version": "3.9.13"
  }
 },
 "nbformat": 4,
 "nbformat_minor": 1
}
