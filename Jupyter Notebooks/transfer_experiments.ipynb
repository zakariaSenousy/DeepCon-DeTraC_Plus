{
 "cells": [
  {
   "cell_type": "markdown",
   "metadata": {
    "id": "8wYPVnDk5Odz"
   },
   "source": [
    "### Imports and setup"
   ]
  },
  {
   "cell_type": "code",
   "execution_count": null,
   "metadata": {
    "id": "wo9lvZTf5HVX"
   },
   "outputs": [],
   "source": [
    "!pip install import-ipynb"
   ]
  },
  {
   "cell_type": "code",
   "execution_count": null,
   "metadata": {
    "id": "Z5RBQ13vFtGH"
   },
   "outputs": [],
   "source": [
    "gpu_info = !nvidia-smi\n",
    "gpu_info = '\\n'.join(gpu_info)\n",
    "if gpu_info.find('failed') >= 0:\n",
    "  print('Not connected to a GPU')\n",
    "else:\n",
    "  print(gpu_info)"
   ]
  },
  {
   "cell_type": "code",
   "execution_count": null,
   "metadata": {
    "id": "jv8wROBaF1EY"
   },
   "outputs": [],
   "source": [
    "from psutil import virtual_memory\n",
    "ram_gb = virtual_memory().total / 1e9\n",
    "print('Your runtime has {:.1f} gigabytes of available RAM\\n'.format(ram_gb))\n",
    "\n",
    "if ram_gb < 20:\n",
    "  print('Not using a high-RAM runtime')\n",
    "else:\n",
    "  print('You are using a high-RAM runtime!')"
   ]
  },
  {
   "cell_type": "code",
   "execution_count": null,
   "metadata": {
    "id": "U0T0t4ksW1h9"
   },
   "outputs": [],
   "source": [
    "import import_ipynb\n",
    "from google.colab import drive\n",
    "import os\n",
    "import pickle\n",
    "import gc\n",
    "import numpy as np\n",
    "from sklearn.model_selection import StratifiedKFold\n",
    "from sklearn.metrics import classification_report, accuracy_score\n",
    "from keras.utils import np_utils\n",
    "from tensorflow.keras.preprocessing.image import ImageDataGenerator"
   ]
  },
  {
   "cell_type": "code",
   "execution_count": null,
   "metadata": {
    "id": "tASNDFWw5Dae"
   },
   "outputs": [],
   "source": [
    "drive.mount('/content/drive/')\n",
    "%cd '/content/drive/MyDrive/FYP'"
   ]
  },
  {
   "cell_type": "code",
   "execution_count": null,
   "metadata": {
    "id": "LRSskLGf5H0R"
   },
   "outputs": [],
   "source": [
    "from data_loader_ordered import load_data"
   ]
  },
  {
   "cell_type": "markdown",
   "metadata": {
    "id": "i5Vaw_SpySWk"
   },
   "source": [
    "### Model Imports"
   ]
  },
  {
   "cell_type": "code",
   "execution_count": null,
   "metadata": {
    "id": "JWzZLIJfyHb3"
   },
   "outputs": [],
   "source": [
    "import tensorflow\n",
    "gpus = tensorflow.config.experimental.list_physical_devices('GPU')\n",
    "for gpu in gpus:\n",
    "  tensorflow.config.experimental.set_memory_growth(gpu, True)\n",
    "import tensorflow.keras.backend as K\n",
    "from keras.callbacks import Callback\n",
    "from keras.models import Sequential\n",
    "from keras.layers.core import Dense, Activation, Dropout\n",
    "from tensorflow.keras.layers import Conv2D, Flatten, MaxPooling2D\n",
    "from tensorflow.keras.layers import BatchNormalization, GlobalAveragePooling2D\n",
    "from tensorflow.keras.layers import LeakyReLU\n",
    "from tensorflow.keras.optimizers import Adam, SGD\n",
    "from tensorflow.keras.optimizers.schedules import ExponentialDecay\n",
    "from tensorflow.keras.callbacks import LearningRateScheduler"
   ]
  },
  {
   "cell_type": "code",
   "execution_count": null,
   "metadata": {
    "id": "BUQifnlNyR1J"
   },
   "outputs": [],
   "source": [
    "from tensorflow.keras.applications import Xception, EfficientNetV2S, InceptionV3\n",
    "from tensorflow.keras.applications.inception_v3 import preprocess_input"
   ]
  },
  {
   "cell_type": "code",
   "execution_count": null,
   "metadata": {
    "id": "GqD1kcGO2dzF"
   },
   "outputs": [],
   "source": [
    "tensorflow.config.run_functions_eagerly(True)"
   ]
  },
  {
   "cell_type": "markdown",
   "metadata": {
    "id": "-eXww_JQxZ-a"
   },
   "source": [
    "### Model setup functions\n"
   ]
  },
  {
   "cell_type": "code",
   "execution_count": null,
   "metadata": {
    "id": "Z6Ty5ihUbAhm"
   },
   "outputs": [],
   "source": [
    "def random_aug(img):\n",
    "  img = np.rot90(img, np.random.choice([0, 1, 2, 3]))\n",
    "  if np.random.choice([0, 1]):\n",
    "      img = np.flipud(img)\n",
    "  if np.random.choice([0, 1]):\n",
    "      img = np.fliplr(img)\n",
    "  return img"
   ]
  },
  {
   "cell_type": "code",
   "execution_count": null,
   "metadata": {
    "id": "GtU1Wlejs1Rk"
   },
   "outputs": [],
   "source": [
    "def get_base(model_func = None, base_trainable=True, freeze_before=None):\n",
    "  base_model = model_func(\n",
    "      weights='imagenet', include_top=False, input_shape=(150,150,3))\n",
    "  \n",
    "  if base_trainable:\n",
    "    base_model.trainable = True\n",
    "    if freeze_before:\n",
    "      trainable = False\n",
    "      for layer in base_model.layers:\n",
    "        if layer.name.startswith(freeze_before):\n",
    "          trainable = True\n",
    "        if not trainable:\n",
    "          layer.trainable = False\n",
    "  else:\n",
    "    base_model.trainable = False\n",
    "\n",
    "  return base_model"
   ]
  },
  {
   "cell_type": "code",
   "execution_count": null,
   "metadata": {
    "id": "SCF-yFfdWgWA"
   },
   "outputs": [],
   "source": [
    "def create_model(base, num_classes, dropout=0, n_hidden=1024, \n",
    "                 activation='relu', kernel_reg = 'l2'):\n",
    "  model = Sequential()\n",
    "  model.add(base)\n",
    "  model.add(GlobalAveragePooling2D())\n",
    "  model.add(Dense(n_hidden, activation='relu', kernel_regularizer='l2'))\n",
    "  if dropout:\n",
    "    model.add(Dropout(dropout))\n",
    "  model.add(Dense(num_classes, activation='softmax'))\n",
    "  return model"
   ]
  },
  {
   "cell_type": "code",
   "execution_count": null,
   "metadata": {
    "id": "JqXB0-Mmta-c"
   },
   "outputs": [],
   "source": [
    "def print_model_summary(base_model, num_classes, kwargs):\n",
    "  for layer in base_model.layers:\n",
    "    print(layer.name, \"\\t\", layer.trainable)\n",
    "  model = create_model(base_model, num_classes, **kwargs)\n",
    "  model.summary()"
   ]
  },
  {
   "cell_type": "markdown",
   "metadata": {
    "id": "SQumOpeAt6jz"
   },
   "source": [
    "### Training and eval functions"
   ]
  },
  {
   "cell_type": "code",
   "execution_count": null,
   "metadata": {
    "id": "Rml5clYCt6J8"
   },
   "outputs": [],
   "source": [
    "def get_clf_report(y_true, y_pred):\n",
    "  y_true = np.argmax(y_true, axis=1)\n",
    "  y_pred = np.argmax(y_pred, axis=1)\n",
    "  report = classification_report(y_true, y_pred, output_dict=True)\n",
    "  return report"
   ]
  },
  {
   "cell_type": "code",
   "execution_count": null,
   "metadata": {
    "id": "Xl8nlnxWclWm"
   },
   "outputs": [],
   "source": [
    "def get_detrac_clf_report(y_true, y_pred):\n",
    "  y_true = np.argmax(y_true, axis=1)\n",
    "  y_pred = np.argmax(y_pred, axis=1)\n",
    "  for n in range(0, 16, 2):\n",
    "    y_true = np.where(y_true==n+1, n, y_true)\n",
    "    y_pred = np.where(y_pred==n+1, n, y_pred)\n",
    "  report = classification_report(y_true, y_pred, output_dict=True)\n",
    "  return report"
   ]
  },
  {
   "cell_type": "code",
   "execution_count": null,
   "metadata": {
    "id": "HSPoVHw1T6xF"
   },
   "outputs": [],
   "source": [
    "def pickle_object(obj, file_name):\n",
    "  with open(file_name, \"wb\") as f:\n",
    "    %cd '/content/drive/MyDrive/FYP'\n",
    "    assert(os.getcwd() == \"/content/drive/MyDrive/FYP\")\n",
    "    pickle.dump(obj, f)\n",
    "    print(f\"Saved file {file_name}\")"
   ]
  },
  {
   "cell_type": "code",
   "execution_count": null,
   "metadata": {
    "id": "sjItEjTgd7er"
   },
   "outputs": [],
   "source": [
    "def get_decay_fn(decay_factor=0.9, decay_rate=5):\n",
    "  def step_decay(epoch, lr):\n",
    "    if epoch%decay_rate == 0 and epoch != 0:\n",
    "      return lr * decay_factor\n",
    "    return lr\n",
    "  return step_decay"
   ]
  },
  {
   "cell_type": "code",
   "execution_count": null,
   "metadata": {
    "id": "p1kZwbhE1Xj0"
   },
   "outputs": [],
   "source": [
    "def detrac_accuracy(y_true_T, y_pred_T):\n",
    "  y_true = y_true_T.numpy()\n",
    "  y_pred = y_pred_T.numpy()\n",
    "  y_true = np.argmax(y_true, axis=1)\n",
    "  y_pred = np.argmax(y_pred, axis=1)\n",
    "  for n in range(0, 16, 2):\n",
    "    y_true = np.where(y_true==n+1, n, y_true)\n",
    "    y_pred = np.where(y_pred==n+1, n, y_pred)\n",
    "  return accuracy_score(y_true, y_pred)"
   ]
  },
  {
   "cell_type": "code",
   "execution_count": null,
   "metadata": {
    "id": "dmd_oUsv1XAG"
   },
   "outputs": [],
   "source": [
    "def run_experiment(X, y, num_classes, optim_fn, \n",
    "                   lr_schedule, base_params, lr_params, cv_splits=None,\n",
    "                   epochs=50, batch_size=128, detrac=False, random_state=123,\n",
    "                   save_model=False, model_save_path=None):\n",
    "\n",
    "  best_acc = 0\n",
    "\n",
    "  histories = []\n",
    "  clf_reports = []\n",
    "  i = 1\n",
    "  print_summary = True\n",
    "\n",
    "  skf = StratifiedKFold(\n",
    "      n_splits=cv_splits, random_state=random_state, shuffle=True)\n",
    "  \n",
    "  for train_index, test_index in skf.split(X, y):\n",
    "    X_train, X_test = X[train_index], X[test_index]\n",
    "    y_train, y_test = y[train_index], y[test_index]\n",
    "    X_train = preprocess_input(X_train)\n",
    "    X_test = preprocess_input(X_test)\n",
    "    y_train = np_utils.to_categorical(y_train, num_classes)\n",
    "    y_test = np_utils.to_categorical(y_test, num_classes)\n",
    "\n",
    "    base_model = get_base(**base_params)\n",
    "    model = create_model(base_model, num_classes, **dense_params)\n",
    "    train_datagen = ImageDataGenerator(\n",
    "        preprocessing_function=random_aug)\n",
    "\n",
    "    optimizer = optim_fn(**lr_params)\n",
    "    metrics = ['accuracy']\n",
    "    model.compile(loss='categorical_crossentropy', \n",
    "                optimizer=optimizer, metrics=metrics,\n",
    "                run_eagerly=True)\n",
    "    if print_summary:\n",
    "      print(model.summary())\n",
    "      print_summary = False\n",
    "\n",
    "    print(f\"Fitting split {i}\")\n",
    "\n",
    "    history = model.fit(\n",
    "        train_datagen.flow((X_train, y_train), batch_size=batch_size), \n",
    "        validation_data=(X_test, y_test),\n",
    "        steps_per_epoch=(len(X_train)//batch_size),\n",
    "        epochs=epochs, callbacks=[lr_schedule], verbose=1)\n",
    "    \n",
    "    histories.append(history.history)\n",
    "\n",
    "    y_pred = model.predict(X_test)\n",
    "    if detrac:\n",
    "      clf_report = get_detrac_clf_report(y_test, y_pred)\n",
    "    else:\n",
    "      clf_report = get_clf_report(y_test, y_pred)\n",
    "\n",
    "    clf_reports.append(clf_report)\n",
    "\n",
    "    print(clf_report)\n",
    "\n",
    "\n",
    "    curr_acc = clf_report[\"accuracy\"]\n",
    "    if curr_acc > best_acc:\n",
    "      best_acc = curr_acc\n",
    "      if save_model:\n",
    "        model.save(model_save_path)\n",
    "        print(\"Saving new best model\")\n",
    "    i += 1\n",
    "    del model\n",
    "    gc.collect()\n",
    "  return histories, clf_reports"
   ]
  },
  {
   "cell_type": "markdown",
   "metadata": {
    "id": "5aW1d_MkYK79"
   },
   "source": [
    "### Main"
   ]
  },
  {
   "cell_type": "code",
   "execution_count": null,
   "metadata": {
    "id": "QXfDPBns5YmI"
   },
   "outputs": [],
   "source": [
    "DATA_DIR = '/content/drive/MyDrive/FYP/Kather_norm'"
   ]
  },
  {
   "cell_type": "code",
   "execution_count": null,
   "metadata": {
    "id": "H9Ox7YGG5k_B"
   },
   "outputs": [],
   "source": [
    "# skip_classes = [2,3,4,5,7]\n",
    "skip_classes = []\n",
    "random_state = 123"
   ]
  },
  {
   "cell_type": "code",
   "execution_count": null,
   "metadata": {
    "colab": {
     "base_uri": "https://localhost:8080/"
    },
    "executionInfo": {
     "elapsed": 18651,
     "status": "ok",
     "timestamp": 1651748816009,
     "user": {
      "displayName": "S",
      "userId": "17849737988723580670"
     },
     "user_tz": -60
    },
    "id": "aT-0DHt75jdX",
    "outputId": "ee5d2448-81fb-483e-8350-6b7507f295e6"
   },
   "outputs": [
    {
     "name": "stdout",
     "output_type": "stream",
     "text": [
      "Loading 01_TUMOR...\n"
     ]
    },
    {
     "name": "stderr",
     "output_type": "stream",
     "text": [
      "100%|██████████| 625/625 [00:03<00:00, 179.88it/s]\n"
     ]
    },
    {
     "name": "stdout",
     "output_type": "stream",
     "text": [
      "Loading 02_STROMA...\n"
     ]
    },
    {
     "name": "stderr",
     "output_type": "stream",
     "text": [
      "100%|██████████| 625/625 [00:02<00:00, 224.73it/s]\n"
     ]
    },
    {
     "name": "stdout",
     "output_type": "stream",
     "text": [
      "Loading 03_COMPLEX...\n"
     ]
    },
    {
     "name": "stderr",
     "output_type": "stream",
     "text": [
      "100%|██████████| 625/625 [00:02<00:00, 237.67it/s]\n"
     ]
    },
    {
     "name": "stdout",
     "output_type": "stream",
     "text": [
      "Loading 04_LYMPHO...\n"
     ]
    },
    {
     "name": "stderr",
     "output_type": "stream",
     "text": [
      "100%|██████████| 625/625 [00:01<00:00, 327.37it/s]\n"
     ]
    },
    {
     "name": "stdout",
     "output_type": "stream",
     "text": [
      "Loading 05_DEBRIS...\n"
     ]
    },
    {
     "name": "stderr",
     "output_type": "stream",
     "text": [
      "100%|██████████| 625/625 [00:01<00:00, 331.03it/s]\n"
     ]
    },
    {
     "name": "stdout",
     "output_type": "stream",
     "text": [
      "Loading 06_MUCOSA...\n"
     ]
    },
    {
     "name": "stderr",
     "output_type": "stream",
     "text": [
      "100%|██████████| 625/625 [00:01<00:00, 324.44it/s]\n"
     ]
    },
    {
     "name": "stdout",
     "output_type": "stream",
     "text": [
      "Loading 07_ADIPOSE...\n"
     ]
    },
    {
     "name": "stderr",
     "output_type": "stream",
     "text": [
      "100%|██████████| 625/625 [00:02<00:00, 297.80it/s]\n"
     ]
    },
    {
     "name": "stdout",
     "output_type": "stream",
     "text": [
      "Loading 08_EMPTY...\n"
     ]
    },
    {
     "name": "stderr",
     "output_type": "stream",
     "text": [
      "100%|██████████| 625/625 [00:01<00:00, 409.28it/s]\n"
     ]
    },
    {
     "name": "stdout",
     "output_type": "stream",
     "text": [
      "Done\n"
     ]
    }
   ],
   "source": [
    "X, y, NUM_CLASSES = load_data(DATA_DIR, skip_classes=skip_classes, test_split=0, \n",
    "                              shuffle=True, random_state=random_state)"
   ]
  },
  {
   "cell_type": "code",
   "execution_count": null,
   "metadata": {
    "colab": {
     "base_uri": "https://localhost:8080/"
    },
    "executionInfo": {
     "elapsed": 17,
     "status": "ok",
     "timestamp": 1651748816009,
     "user": {
      "displayName": "S",
      "userId": "17849737988723580670"
     },
     "user_tz": -60
    },
    "id": "2SkllK_ukwNi",
    "outputId": "41cf73af-8de1-4ad3-de8f-72779712d48c"
   },
   "outputs": [
    {
     "data": {
      "text/plain": [
       "8"
      ]
     },
     "execution_count": 30,
     "metadata": {},
     "output_type": "execute_result"
    }
   ],
   "source": [
    "NUM_CLASSES"
   ]
  },
  {
   "cell_type": "code",
   "execution_count": null,
   "metadata": {
    "id": "YIOP5iGFIwB1"
   },
   "outputs": [],
   "source": [
    "experiment_name = \"InceptionV3_deep\""
   ]
  },
  {
   "cell_type": "code",
   "execution_count": null,
   "metadata": {
    "id": "5YyZnIqoUI1P"
   },
   "outputs": [],
   "source": [
    "base_params = {\n",
    "    'model_func': InceptionV3, \n",
    "    'base_trainable': True, \n",
    "    'freeze_before': None\n",
    "}\n",
    "dense_params = {\n",
    "    'n_hidden': 1024,\n",
    "    'dropout': 0,\n",
    "    'activation': 'relu', \n",
    "    'kernel_reg': 'l1'\n",
    "}\n",
    "\n",
    "lr_params = {\n",
    "    'learning_rate': 1e-2,\n",
    "    'momentum': 0.9\n",
    "}\n",
    "    \n",
    "other_params = {\n",
    "    'cv_splits': 10,\n",
    "    'epochs': 30,\n",
    "    'batch_size': 32,\n",
    "    'save_model': False,\n",
    "    'model_save_path': f\"{experiment_name}.h5\",\n",
    "    'detrac': False\n",
    "}\n",
    "\n",
    "decay_params = {\n",
    "    'decay_factor': 0.75,\n",
    "    'decay_rate': 10\n",
    "}"
   ]
  },
  {
   "cell_type": "code",
   "execution_count": null,
   "metadata": {
    "id": "Aln26yEWpi7X"
   },
   "outputs": [],
   "source": [
    "OPTIM_FN = SGD\n",
    "step_decay = get_decay_fn(**decay_params)\n",
    "LR_SCHEDULE = LearningRateScheduler(step_decay)"
   ]
  },
  {
   "cell_type": "code",
   "execution_count": null,
   "metadata": {
    "id": "akD-D2sg2_Po"
   },
   "outputs": [],
   "source": [
    "# base = get_base(**base_params)"
   ]
  },
  {
   "cell_type": "code",
   "execution_count": null,
   "metadata": {
    "id": "-qq4SDl93d_1"
   },
   "outputs": [],
   "source": [
    "# print_model_summary(base, NUM_CLASSES, dense_params)"
   ]
  },
  {
   "cell_type": "code",
   "execution_count": null,
   "metadata": {
    "id": "JyhcJz3mTX54"
   },
   "outputs": [],
   "source": [
    "histories, clf_reports = run_experiment(\n",
    "    X, y, NUM_CLASSES, OPTIM_FN, LR_SCHEDULE,\n",
    "    base_params, lr_params, **other_params,\n",
    "    random_state=123)\n",
    "# DOUBLE CHECK BASE OUTPUT AND PREPROCESSING REQS"
   ]
  }
 ],
 "metadata": {
  "accelerator": "GPU",
  "colab": {
   "collapsed_sections": [],
   "machine_shape": "hm",
   "name": "Copy of transfer_experiments.ipynb",
   "provenance": []
  },
  "kernelspec": {
   "display_name": "Python 3 (ipykernel)",
   "language": "python",
   "name": "python3"
  },
  "language_info": {
   "codemirror_mode": {
    "name": "ipython",
    "version": 3
   },
   "file_extension": ".py",
   "mimetype": "text/x-python",
   "name": "python",
   "nbconvert_exporter": "python",
   "pygments_lexer": "ipython3",
   "version": "3.9.13"
  }
 },
 "nbformat": 4,
 "nbformat_minor": 1
}
