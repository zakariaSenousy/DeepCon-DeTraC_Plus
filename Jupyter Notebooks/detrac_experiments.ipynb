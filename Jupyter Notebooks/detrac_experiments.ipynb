{
 "cells": [
  {
   "cell_type": "markdown",
   "metadata": {
    "id": "8wYPVnDk5Odz"
   },
   "source": [
    "### Imports and setup"
   ]
  },
  {
   "cell_type": "code",
   "execution_count": null,
   "metadata": {
    "colab": {
     "base_uri": "https://localhost:8080/"
    },
    "executionInfo": {
     "elapsed": 2254,
     "status": "ok",
     "timestamp": 1651931705119,
     "user": {
      "displayName": "S",
      "userId": "17849737988723580670"
     },
     "user_tz": -60
    },
    "id": "wo9lvZTf5HVX",
    "outputId": "e11f5b90-f42f-4bfb-a9c4-cd91fb5c25fb"
   },
   "outputs": [
    {
     "name": "stdout",
     "output_type": "stream",
     "text": [
      "Requirement already satisfied: import-ipynb in /usr/local/lib/python3.7/dist-packages (0.1.4)\n",
      "Requirement already satisfied: nbformat in /usr/local/lib/python3.7/dist-packages (from import-ipynb) (5.3.0)\n",
      "Requirement already satisfied: IPython in /usr/local/lib/python3.7/dist-packages (from import-ipynb) (5.5.0)\n",
      "Requirement already satisfied: simplegeneric>0.8 in /usr/local/lib/python3.7/dist-packages (from IPython->import-ipynb) (0.8.1)\n",
      "Requirement already satisfied: pickleshare in /usr/local/lib/python3.7/dist-packages (from IPython->import-ipynb) (0.7.5)\n",
      "Requirement already satisfied: traitlets>=4.2 in /usr/local/lib/python3.7/dist-packages (from IPython->import-ipynb) (5.1.1)\n",
      "Requirement already satisfied: prompt-toolkit<2.0.0,>=1.0.4 in /usr/local/lib/python3.7/dist-packages (from IPython->import-ipynb) (1.0.18)\n",
      "Requirement already satisfied: pexpect in /usr/local/lib/python3.7/dist-packages (from IPython->import-ipynb) (4.8.0)\n",
      "Requirement already satisfied: setuptools>=18.5 in /usr/local/lib/python3.7/dist-packages (from IPython->import-ipynb) (57.4.0)\n",
      "Requirement already satisfied: decorator in /usr/local/lib/python3.7/dist-packages (from IPython->import-ipynb) (4.4.2)\n",
      "Requirement already satisfied: pygments in /usr/local/lib/python3.7/dist-packages (from IPython->import-ipynb) (2.6.1)\n",
      "Requirement already satisfied: wcwidth in /usr/local/lib/python3.7/dist-packages (from prompt-toolkit<2.0.0,>=1.0.4->IPython->import-ipynb) (0.2.5)\n",
      "Requirement already satisfied: six>=1.9.0 in /usr/local/lib/python3.7/dist-packages (from prompt-toolkit<2.0.0,>=1.0.4->IPython->import-ipynb) (1.15.0)\n",
      "Requirement already satisfied: fastjsonschema in /usr/local/lib/python3.7/dist-packages (from nbformat->import-ipynb) (2.15.3)\n",
      "Requirement already satisfied: jupyter-core in /usr/local/lib/python3.7/dist-packages (from nbformat->import-ipynb) (4.10.0)\n",
      "Requirement already satisfied: jsonschema>=2.6 in /usr/local/lib/python3.7/dist-packages (from nbformat->import-ipynb) (4.3.3)\n",
      "Requirement already satisfied: importlib-resources>=1.4.0 in /usr/local/lib/python3.7/dist-packages (from jsonschema>=2.6->nbformat->import-ipynb) (5.7.1)\n",
      "Requirement already satisfied: attrs>=17.4.0 in /usr/local/lib/python3.7/dist-packages (from jsonschema>=2.6->nbformat->import-ipynb) (21.4.0)\n",
      "Requirement already satisfied: typing-extensions in /usr/local/lib/python3.7/dist-packages (from jsonschema>=2.6->nbformat->import-ipynb) (4.2.0)\n",
      "Requirement already satisfied: importlib-metadata in /usr/local/lib/python3.7/dist-packages (from jsonschema>=2.6->nbformat->import-ipynb) (4.11.3)\n",
      "Requirement already satisfied: pyrsistent!=0.17.0,!=0.17.1,!=0.17.2,>=0.14.0 in /usr/local/lib/python3.7/dist-packages (from jsonschema>=2.6->nbformat->import-ipynb) (0.18.1)\n",
      "Requirement already satisfied: zipp>=3.1.0 in /usr/local/lib/python3.7/dist-packages (from importlib-resources>=1.4.0->jsonschema>=2.6->nbformat->import-ipynb) (3.8.0)\n",
      "Requirement already satisfied: ptyprocess>=0.5 in /usr/local/lib/python3.7/dist-packages (from pexpect->IPython->import-ipynb) (0.7.0)\n"
     ]
    }
   ],
   "source": [
    "!pip install import-ipynb"
   ]
  },
  {
   "cell_type": "code",
   "execution_count": null,
   "metadata": {
    "colab": {
     "base_uri": "https://localhost:8080/"
    },
    "executionInfo": {
     "elapsed": 367,
     "status": "ok",
     "timestamp": 1651931705481,
     "user": {
      "displayName": "S",
      "userId": "17849737988723580670"
     },
     "user_tz": -60
    },
    "id": "Z5RBQ13vFtGH",
    "outputId": "87c47fa6-27c8-4efb-db57-958e8f41ba2a"
   },
   "outputs": [
    {
     "name": "stdout",
     "output_type": "stream",
     "text": [
      "Sat May  7 13:55:05 2022       \n",
      "+-----------------------------------------------------------------------------+\n",
      "| NVIDIA-SMI 460.32.03    Driver Version: 460.32.03    CUDA Version: 11.2     |\n",
      "|-------------------------------+----------------------+----------------------+\n",
      "| GPU  Name        Persistence-M| Bus-Id        Disp.A | Volatile Uncorr. ECC |\n",
      "| Fan  Temp  Perf  Pwr:Usage/Cap|         Memory-Usage | GPU-Util  Compute M. |\n",
      "|                               |                      |               MIG M. |\n",
      "|===============================+======================+======================|\n",
      "|   0  Tesla P100-PCIE...  Off  | 00000000:00:04.0 Off |                    0 |\n",
      "| N/A   35C    P0    25W / 250W |      0MiB / 16280MiB |      0%      Default |\n",
      "|                               |                      |                  N/A |\n",
      "+-------------------------------+----------------------+----------------------+\n",
      "                                                                               \n",
      "+-----------------------------------------------------------------------------+\n",
      "| Processes:                                                                  |\n",
      "|  GPU   GI   CI        PID   Type   Process name                  GPU Memory |\n",
      "|        ID   ID                                                   Usage      |\n",
      "|=============================================================================|\n",
      "|  No running processes found                                                 |\n",
      "+-----------------------------------------------------------------------------+\n"
     ]
    }
   ],
   "source": [
    "gpu_info = !nvidia-smi\n",
    "gpu_info = '\\n'.join(gpu_info)\n",
    "if gpu_info.find('failed') >= 0:\n",
    "  print('Not connected to a GPU')\n",
    "else:\n",
    "  print(gpu_info)"
   ]
  },
  {
   "cell_type": "code",
   "execution_count": null,
   "metadata": {
    "colab": {
     "base_uri": "https://localhost:8080/"
    },
    "executionInfo": {
     "elapsed": 5,
     "status": "ok",
     "timestamp": 1651931705482,
     "user": {
      "displayName": "S",
      "userId": "17849737988723580670"
     },
     "user_tz": -60
    },
    "id": "jv8wROBaF1EY",
    "outputId": "3b9b2cef-b432-4da5-c473-dc351ca4b56b"
   },
   "outputs": [
    {
     "name": "stdout",
     "output_type": "stream",
     "text": [
      "Your runtime has 27.3 gigabytes of available RAM\n",
      "\n",
      "You are using a high-RAM runtime!\n"
     ]
    }
   ],
   "source": [
    "from psutil import virtual_memory\n",
    "ram_gb = virtual_memory().total / 1e9\n",
    "print('Your runtime has {:.1f} gigabytes of available RAM\\n'.format(ram_gb))\n",
    "\n",
    "if ram_gb < 20:\n",
    "  print('Not using a high-RAM runtime')\n",
    "else:\n",
    "  print('You are using a high-RAM runtime!')"
   ]
  },
  {
   "cell_type": "code",
   "execution_count": null,
   "metadata": {
    "id": "U0T0t4ksW1h9"
   },
   "outputs": [],
   "source": [
    "import import_ipynb\n",
    "from google.colab import drive\n",
    "import os\n",
    "import pickle\n",
    "import gc\n",
    "import numpy as np\n",
    "from sklearn.model_selection import StratifiedKFold\n",
    "from sklearn.metrics import classification_report, accuracy_score\n",
    "from keras.utils import np_utils\n",
    "from tensorflow.keras.preprocessing.image import ImageDataGenerator"
   ]
  },
  {
   "cell_type": "code",
   "execution_count": null,
   "metadata": {
    "colab": {
     "base_uri": "https://localhost:8080/"
    },
    "executionInfo": {
     "elapsed": 1707,
     "status": "ok",
     "timestamp": 1651931709590,
     "user": {
      "displayName": "S",
      "userId": "17849737988723580670"
     },
     "user_tz": -60
    },
    "id": "tASNDFWw5Dae",
    "outputId": "030c4fb4-1518-413f-98f4-13611a73236f"
   },
   "outputs": [
    {
     "name": "stdout",
     "output_type": "stream",
     "text": [
      "Drive already mounted at /content/drive/; to attempt to forcibly remount, call drive.mount(\"/content/drive/\", force_remount=True).\n",
      "/content/drive/MyDrive/FYP\n"
     ]
    }
   ],
   "source": [
    "drive.mount('/content/drive/')\n",
    "%cd '/content/drive/MyDrive/FYP'"
   ]
  },
  {
   "cell_type": "code",
   "execution_count": null,
   "metadata": {
    "colab": {
     "base_uri": "https://localhost:8080/"
    },
    "executionInfo": {
     "elapsed": 12,
     "status": "ok",
     "timestamp": 1651931709590,
     "user": {
      "displayName": "S",
      "userId": "17849737988723580670"
     },
     "user_tz": -60
    },
    "id": "LRSskLGf5H0R",
    "outputId": "85399e13-4c04-42e7-cc6e-e45ff60556f3"
   },
   "outputs": [
    {
     "name": "stdout",
     "output_type": "stream",
     "text": [
      "importing Jupyter notebook from data_loader_ordered.ipynb\n"
     ]
    }
   ],
   "source": [
    "from data_loader_ordered import load_data"
   ]
  },
  {
   "cell_type": "markdown",
   "metadata": {
    "id": "i5Vaw_SpySWk"
   },
   "source": [
    "### Model Imports"
   ]
  },
  {
   "cell_type": "code",
   "execution_count": null,
   "metadata": {
    "id": "JWzZLIJfyHb3"
   },
   "outputs": [],
   "source": [
    "import tensorflow\n",
    "gpus = tensorflow.config.experimental.list_physical_devices('GPU')\n",
    "for gpu in gpus:\n",
    "  tensorflow.config.experimental.set_memory_growth(gpu, True)\n",
    "import tensorflow.keras.backend as K\n",
    "from keras.callbacks import Callback\n",
    "from keras.models import Sequential\n",
    "from keras.layers.core import Dense, Activation, Dropout\n",
    "from tensorflow.keras.layers import Conv2D, Flatten, MaxPooling2D\n",
    "from tensorflow.keras.layers import BatchNormalization, GlobalAveragePooling2D\n",
    "from tensorflow.keras.layers import LeakyReLU\n",
    "from tensorflow.keras.optimizers import Adam, SGD\n",
    "from tensorflow.keras.optimizers.schedules import ExponentialDecay\n",
    "from tensorflow.keras.callbacks import LearningRateScheduler"
   ]
  },
  {
   "cell_type": "code",
   "execution_count": null,
   "metadata": {
    "id": "BUQifnlNyR1J"
   },
   "outputs": [],
   "source": [
    "from tensorflow.keras.applications import Xception, EfficientNetV2S, InceptionV3\n",
    "from tensorflow.keras.applications.inception_v3 import preprocess_input"
   ]
  },
  {
   "cell_type": "code",
   "execution_count": null,
   "metadata": {
    "id": "GqD1kcGO2dzF"
   },
   "outputs": [],
   "source": [
    "tensorflow.config.run_functions_eagerly(True)"
   ]
  },
  {
   "cell_type": "markdown",
   "metadata": {
    "id": "-eXww_JQxZ-a"
   },
   "source": [
    "### Model setup functions\n"
   ]
  },
  {
   "cell_type": "code",
   "execution_count": null,
   "metadata": {
    "id": "Z6Ty5ihUbAhm"
   },
   "outputs": [],
   "source": [
    "def random_aug(img):\n",
    "  img = np.rot90(img, np.random.choice([0, 1, 2, 3]))\n",
    "  if np.random.choice([0, 1]):\n",
    "      img = np.flipud(img)\n",
    "  if np.random.choice([0, 1]):\n",
    "      img = np.fliplr(img)\n",
    "  return img"
   ]
  },
  {
   "cell_type": "code",
   "execution_count": null,
   "metadata": {
    "id": "GtU1Wlejs1Rk"
   },
   "outputs": [],
   "source": [
    "def get_base(model_func=None, base_trainable=True, freeze_before=None):\n",
    "  base_model = model_func(\n",
    "      weights='imagenet', include_top=False, input_shape=(150,150,3))\n",
    "  \n",
    "  if base_trainable:\n",
    "    base_model.trainable = True\n",
    "    if freeze_before:\n",
    "      trainable = False\n",
    "      for layer in base_model.layers:\n",
    "        if layer.name.startswith(freeze_before):\n",
    "          trainable = True\n",
    "        if not trainable:\n",
    "          layer.trainable = False\n",
    "  else:\n",
    "    base_model.trainable = False\n",
    "\n",
    "  return base_model"
   ]
  },
  {
   "cell_type": "code",
   "execution_count": null,
   "metadata": {
    "id": "SCF-yFfdWgWA"
   },
   "outputs": [],
   "source": [
    "def create_model(base, num_classes, dropout=0, n_hidden=1024, \n",
    "                 activation='relu', kernel_reg = 'l2'):\n",
    "  model = Sequential()\n",
    "  model.add(base)\n",
    "  model.add(GlobalAveragePooling2D())\n",
    "  model.add(Dense(n_hidden, activation='relu', kernel_regularizer='l2'))\n",
    "  if dropout:\n",
    "    model.add(Dropout(dropout))\n",
    "  model.add(Dense(num_classes, activation='softmax'))\n",
    "  return model"
   ]
  },
  {
   "cell_type": "code",
   "execution_count": null,
   "metadata": {
    "id": "JqXB0-Mmta-c"
   },
   "outputs": [],
   "source": [
    "def print_model_summary(base_model, num_classes, kwargs):\n",
    "  for layer in base_model.layers:\n",
    "    print(layer.name, \"\\t\", layer.trainable)\n",
    "  model = create_model(base_model, num_classes, **kwargs)\n",
    "  model.summary()"
   ]
  },
  {
   "cell_type": "markdown",
   "metadata": {
    "id": "SQumOpeAt6jz"
   },
   "source": [
    "### Training and eval functions"
   ]
  },
  {
   "cell_type": "code",
   "execution_count": null,
   "metadata": {
    "id": "Rml5clYCt6J8"
   },
   "outputs": [],
   "source": [
    "def get_clf_report(y_true, y_pred):\n",
    "  y_true = np.argmax(y_true, axis=1)\n",
    "  y_pred = np.argmax(y_pred, axis=1)\n",
    "  report = classification_report(y_true, y_pred, output_dict=True)\n",
    "  return report"
   ]
  },
  {
   "cell_type": "code",
   "execution_count": null,
   "metadata": {
    "id": "Xl8nlnxWclWm"
   },
   "outputs": [],
   "source": [
    "def get_detrac_clf_report(y_true, y_pred):\n",
    "  y_true = np.argmax(y_true, axis=1)\n",
    "  y_pred = np.argmax(y_pred, axis=1)\n",
    "  for n in range(0, 16, 2):\n",
    "    y_true = np.where(y_true==n+1, n, y_true)\n",
    "    y_pred = np.where(y_pred==n+1, n, y_pred)\n",
    "  report = classification_report(y_true, y_pred, output_dict=True)\n",
    "  return report"
   ]
  },
  {
   "cell_type": "code",
   "execution_count": null,
   "metadata": {
    "id": "HSPoVHw1T6xF"
   },
   "outputs": [],
   "source": [
    "def pickle_object(obj, file_name):\n",
    "  with open(file_name, \"wb\") as f:\n",
    "    %cd '/content/drive/MyDrive/FYP'\n",
    "    assert(os.getcwd() == \"/content/drive/MyDrive/FYP\")\n",
    "    pickle.dump(obj, f)\n",
    "    print(f\"Saved file {file_name}\")"
   ]
  },
  {
   "cell_type": "code",
   "execution_count": null,
   "metadata": {
    "id": "sjItEjTgd7er"
   },
   "outputs": [],
   "source": [
    "def get_decay_fn(decay_factor=0.9, decay_rate=10):\n",
    "  def step_decay(epoch, lr):\n",
    "    if epoch%decay_rate == 0 and epoch != 0:\n",
    "      return lr * decay_factor\n",
    "    return lr\n",
    "  return step_decay"
   ]
  },
  {
   "cell_type": "code",
   "execution_count": null,
   "metadata": {
    "id": "OeBXetgh3M5Q"
   },
   "outputs": [],
   "source": [
    "def replace_output(model, num_output):\n",
    "  model = Sequential(model.layers[:-1])\n",
    "  model.add(Dense(num_output, activation='softmax'))\n",
    "  return model"
   ]
  },
  {
   "cell_type": "code",
   "execution_count": null,
   "metadata": {
    "id": "p1kZwbhE1Xj0"
   },
   "outputs": [],
   "source": [
    "def detrac_accuracy(y_true_T, y_pred_T):\n",
    "  y_true = y_true_T.numpy()\n",
    "  y_pred = y_pred_T.numpy()\n",
    "  y_true = np.argmax(y_true, axis=1)\n",
    "  y_pred = np.argmax(y_pred, axis=1)\n",
    "  for n in range(0, 16, 2):\n",
    "    y_true = np.where(y_true==n+1, n, y_true)\n",
    "    y_pred = np.where(y_pred==n+1, n, y_pred)\n",
    "  return accuracy_score(y_true, y_pred)"
   ]
  },
  {
   "cell_type": "code",
   "execution_count": null,
   "metadata": {
    "id": "EM_raL19sBbh"
   },
   "outputs": [],
   "source": [
    "def preprocess_and_split_data(X, y, train_index, test_index, n_classes):\n",
    "  X_train, X_test = X[train_index], X[test_index]\n",
    "  y_train, y_test = y[train_index], y[test_index]\n",
    "  X_train = preprocess_input(X_train)\n",
    "  X_test = preprocess_input(X_test)\n",
    "  y_train = np_utils.to_categorical(y_train, n_classes)\n",
    "  y_test = np_utils.to_categorical(y_test, n_classes)\n",
    "  return X_train, X_test, y_train, y_test"
   ]
  },
  {
   "cell_type": "code",
   "execution_count": null,
   "metadata": {
    "id": "dmd_oUsv1XAG"
   },
   "outputs": [],
   "source": [
    "def run_experiment(X_d, y_d, X_n, y_n, num_classes_d, num_classes_n, optim_fn, \n",
    "                   lr_schedule, base_params, dense_params, lr_params, lr_params_a,\n",
    "                   cv_splits=None, epochs=None, epochs_a=None, \n",
    "                   batch_size=None, random_state=None):\n",
    "\n",
    "  histories_detrac = []\n",
    "  clf_reports_detrac = []\n",
    "  histories_auto = []\n",
    "  clf_reports_auto = []\n",
    "  i = 1\n",
    "  print_summary = True\n",
    "\n",
    "  skf = StratifiedKFold(\n",
    "      n_splits=cv_splits, random_state=random_state, shuffle=True)\n",
    "  \n",
    "  for train_index, test_index in skf.split(X_d, y_d):\n",
    "\n",
    "    # decomp data\n",
    "    X_train_d, X_test_d, y_train_d, y_test_d = preprocess_and_split_data(\n",
    "        X_d, y_d, train_index, test_index, num_classes_d\n",
    "    )\n",
    "\n",
    "    # normal data\n",
    "    X_train_n, X_test_n, y_train_n, y_test_n = preprocess_and_split_data(\n",
    "        X_n, y_n, train_index, test_index, num_classes_n\n",
    "    )\n",
    "\n",
    "    train_datagen = ImageDataGenerator(\n",
    "        preprocessing_function=random_aug)\n",
    "    \n",
    "    # check train indicies\n",
    "    matching = (X_train_d == X_train_n)\n",
    "    assert(matching.all())\n",
    "\n",
    "    base_model = get_base(**base_params)\n",
    "    model_detrac = create_model(base_model, num_classes_d, **dense_params)\n",
    "    optimizer = optim_fn(**lr_params)\n",
    "    metrics = ['accuracy', detrac_accuracy]\n",
    "    model_detrac.compile(loss='categorical_crossentropy', \n",
    "                optimizer=optimizer, metrics=metrics,\n",
    "                run_eagerly=True)\n",
    "    \n",
    "    if print_summary:\n",
    "      print(model_detrac.summary())\n",
    "\n",
    "    print(f\"Fitting split {i}\")\n",
    "    history_d = model_detrac.fit(\n",
    "        train_datagen.flow((X_train_d, y_train_d), batch_size=batch_size), \n",
    "        validation_data=(X_test_d, y_test_d),\n",
    "        steps_per_epoch=(len(X_train_d)//batch_size),\n",
    "        epochs=epochs, callbacks=[lr_schedule], verbose=1)\n",
    "    \n",
    "    histories_detrac.append(history_d.history)\n",
    "    y_pred = model_detrac.predict(X_test_d)\n",
    "    clf_report = get_detrac_clf_report(y_test_d, y_pred)\n",
    "    clf_reports_detrac.append(clf_report)\n",
    "    print('Detrac report:')\n",
    "    print(clf_report)\n",
    "\n",
    "\n",
    "    model_auto = replace_output(model_detrac, num_classes_n)\n",
    "    optimizer = optim_fn(**lr_params_a)\n",
    "    model_auto.compile(loss='categorical_crossentropy', \n",
    "            optimizer=optimizer, metrics=['accuracy'],\n",
    "            run_eagerly=True)\n",
    "\n",
    "    if print_summary:\n",
    "      print(model_auto.summary())\n",
    "      print_summary = False\n",
    "\n",
    "    history_a = model_auto.fit(\n",
    "      train_datagen.flow((X_train_n, y_train_n), batch_size=batch_size), \n",
    "      validation_data=(X_test_n, y_test_n),\n",
    "      steps_per_epoch=(len(X_train_n)//batch_size),\n",
    "      epochs=epochs_a, callbacks=[lr_schedule], verbose=1)\n",
    "    \n",
    "    histories_auto.append(history_a.history)\n",
    "    y_pred = model_auto.predict(X_test_n)\n",
    "    clf_report = get_clf_report(y_test_n, y_pred)\n",
    "    clf_reports_auto.append(clf_report)\n",
    "    print('Auto report:')\n",
    "    print(clf_report)\n",
    "    \n",
    "    i += 1\n",
    "    del model_detrac\n",
    "    del model_auto\n",
    "    gc.collect()\n",
    "  return histories_detrac, clf_reports_detrac, histories_auto, clf_reports_auto"
   ]
  },
  {
   "cell_type": "markdown",
   "metadata": {
    "id": "5aW1d_MkYK79"
   },
   "source": [
    "### Main"
   ]
  },
  {
   "cell_type": "code",
   "execution_count": null,
   "metadata": {
    "id": "QXfDPBns5YmI"
   },
   "outputs": [],
   "source": [
    "DATA_DIR_NORM = '/content/drive/MyDrive/FYP/Kather_norm'\n",
    "DATA_DIR_DECOMP = '/content/drive/MyDrive/FYP/Kather_decomp'"
   ]
  },
  {
   "cell_type": "code",
   "execution_count": null,
   "metadata": {
    "id": "H9Ox7YGG5k_B"
   },
   "outputs": [],
   "source": [
    "random_state = 123"
   ]
  },
  {
   "cell_type": "code",
   "execution_count": null,
   "metadata": {
    "colab": {
     "base_uri": "https://localhost:8080/"
    },
    "executionInfo": {
     "elapsed": 13845,
     "status": "ok",
     "timestamp": 1651931723831,
     "user": {
      "displayName": "S",
      "userId": "17849737988723580670"
     },
     "user_tz": -60
    },
    "id": "aT-0DHt75jdX",
    "outputId": "2dbe600a-8f88-4eab-d168-075f61a2acbb"
   },
   "outputs": [
    {
     "name": "stdout",
     "output_type": "stream",
     "text": [
      "Loading 01_TUMOR...\n"
     ]
    },
    {
     "name": "stderr",
     "output_type": "stream",
     "text": [
      "100%|██████████| 625/625 [00:01<00:00, 409.32it/s]\n"
     ]
    },
    {
     "name": "stdout",
     "output_type": "stream",
     "text": [
      "Loading 02_STROMA...\n"
     ]
    },
    {
     "name": "stderr",
     "output_type": "stream",
     "text": [
      "100%|██████████| 625/625 [00:01<00:00, 340.68it/s]\n"
     ]
    },
    {
     "name": "stdout",
     "output_type": "stream",
     "text": [
      "Loading 03_COMPLEX...\n"
     ]
    },
    {
     "name": "stderr",
     "output_type": "stream",
     "text": [
      "100%|██████████| 625/625 [00:02<00:00, 268.47it/s]\n"
     ]
    },
    {
     "name": "stdout",
     "output_type": "stream",
     "text": [
      "Loading 04_LYMPHO...\n"
     ]
    },
    {
     "name": "stderr",
     "output_type": "stream",
     "text": [
      "100%|██████████| 625/625 [00:02<00:00, 248.08it/s]\n"
     ]
    },
    {
     "name": "stdout",
     "output_type": "stream",
     "text": [
      "Loading 05_DEBRIS...\n"
     ]
    },
    {
     "name": "stderr",
     "output_type": "stream",
     "text": [
      "100%|██████████| 625/625 [00:01<00:00, 364.24it/s]\n"
     ]
    },
    {
     "name": "stdout",
     "output_type": "stream",
     "text": [
      "Loading 06_MUCOSA...\n"
     ]
    },
    {
     "name": "stderr",
     "output_type": "stream",
     "text": [
      "100%|██████████| 625/625 [00:01<00:00, 446.47it/s]\n"
     ]
    },
    {
     "name": "stdout",
     "output_type": "stream",
     "text": [
      "Loading 07_ADIPOSE...\n"
     ]
    },
    {
     "name": "stderr",
     "output_type": "stream",
     "text": [
      "100%|██████████| 625/625 [00:01<00:00, 504.90it/s]\n"
     ]
    },
    {
     "name": "stdout",
     "output_type": "stream",
     "text": [
      "Loading 08_EMPTY...\n"
     ]
    },
    {
     "name": "stderr",
     "output_type": "stream",
     "text": [
      "100%|██████████| 625/625 [00:01<00:00, 568.94it/s]\n"
     ]
    },
    {
     "name": "stdout",
     "output_type": "stream",
     "text": [
      "Done\n"
     ]
    }
   ],
   "source": [
    "X_norm, y_norm, NUM_CLASSES_NORM = load_data(DATA_DIR_NORM, skip_classes=[], test_split=0, \n",
    "                              shuffle=True, random_state=random_state)"
   ]
  },
  {
   "cell_type": "code",
   "execution_count": null,
   "metadata": {
    "colab": {
     "base_uri": "https://localhost:8080/"
    },
    "executionInfo": {
     "elapsed": 10903,
     "status": "ok",
     "timestamp": 1651931734729,
     "user": {
      "displayName": "S",
      "userId": "17849737988723580670"
     },
     "user_tz": -60
    },
    "id": "Ljoe8ucdoMha",
    "outputId": "f14d42a2-f628-441b-c05d-fa4f8c00b2b3"
   },
   "outputs": [
    {
     "name": "stdout",
     "output_type": "stream",
     "text": [
      "Loading 01_TUMOR_CLUSTER_0...\n"
     ]
    },
    {
     "name": "stderr",
     "output_type": "stream",
     "text": [
      "100%|██████████| 260/260 [00:00<00:00, 441.40it/s]\n"
     ]
    },
    {
     "name": "stdout",
     "output_type": "stream",
     "text": [
      "Loading 01_TUMOR_CLUSTER_1...\n"
     ]
    },
    {
     "name": "stderr",
     "output_type": "stream",
     "text": [
      "100%|██████████| 365/365 [00:00<00:00, 447.44it/s]\n"
     ]
    },
    {
     "name": "stdout",
     "output_type": "stream",
     "text": [
      "Loading 02_STROMA_CLUSTER_0...\n"
     ]
    },
    {
     "name": "stderr",
     "output_type": "stream",
     "text": [
      "100%|██████████| 254/254 [00:00<00:00, 475.94it/s]\n"
     ]
    },
    {
     "name": "stdout",
     "output_type": "stream",
     "text": [
      "Loading 02_STROMA_CLUSTER_1...\n"
     ]
    },
    {
     "name": "stderr",
     "output_type": "stream",
     "text": [
      "100%|██████████| 371/371 [00:00<00:00, 451.41it/s]\n"
     ]
    },
    {
     "name": "stdout",
     "output_type": "stream",
     "text": [
      "Loading 03_COMPLEX_CLUSTER_0...\n"
     ]
    },
    {
     "name": "stderr",
     "output_type": "stream",
     "text": [
      "100%|██████████| 284/284 [00:00<00:00, 434.00it/s]\n"
     ]
    },
    {
     "name": "stdout",
     "output_type": "stream",
     "text": [
      "Loading 03_COMPLEX_CLUSTER_1...\n"
     ]
    },
    {
     "name": "stderr",
     "output_type": "stream",
     "text": [
      "100%|██████████| 341/341 [00:00<00:00, 476.21it/s]\n"
     ]
    },
    {
     "name": "stdout",
     "output_type": "stream",
     "text": [
      "Loading 04_LYMPHO_CLUSTER_0...\n"
     ]
    },
    {
     "name": "stderr",
     "output_type": "stream",
     "text": [
      "100%|██████████| 226/226 [00:00<00:00, 442.94it/s]\n"
     ]
    },
    {
     "name": "stdout",
     "output_type": "stream",
     "text": [
      "Loading 04_LYMPHO_CLUSTER_1...\n"
     ]
    },
    {
     "name": "stderr",
     "output_type": "stream",
     "text": [
      "100%|██████████| 399/399 [00:00<00:00, 435.04it/s]\n"
     ]
    },
    {
     "name": "stdout",
     "output_type": "stream",
     "text": [
      "Loading 05_DEBRIS_CLUSTER_0...\n"
     ]
    },
    {
     "name": "stderr",
     "output_type": "stream",
     "text": [
      "100%|██████████| 390/390 [00:00<00:00, 467.18it/s]\n"
     ]
    },
    {
     "name": "stdout",
     "output_type": "stream",
     "text": [
      "Loading 05_DEBRIS_CLUSTER_1...\n"
     ]
    },
    {
     "name": "stderr",
     "output_type": "stream",
     "text": [
      "100%|██████████| 235/235 [00:00<00:00, 476.08it/s]\n"
     ]
    },
    {
     "name": "stdout",
     "output_type": "stream",
     "text": [
      "Loading 06_MUCOSA_CLUSTER_0...\n"
     ]
    },
    {
     "name": "stderr",
     "output_type": "stream",
     "text": [
      "100%|██████████| 264/264 [00:00<00:00, 471.24it/s]\n"
     ]
    },
    {
     "name": "stdout",
     "output_type": "stream",
     "text": [
      "Loading 06_MUCOSA_CLUSTER_1...\n"
     ]
    },
    {
     "name": "stderr",
     "output_type": "stream",
     "text": [
      "100%|██████████| 361/361 [00:00<00:00, 471.72it/s]\n"
     ]
    },
    {
     "name": "stdout",
     "output_type": "stream",
     "text": [
      "Loading 07_ADIPOSE_CLUSTER_0...\n"
     ]
    },
    {
     "name": "stderr",
     "output_type": "stream",
     "text": [
      "100%|██████████| 378/378 [00:00<00:00, 498.37it/s]\n"
     ]
    },
    {
     "name": "stdout",
     "output_type": "stream",
     "text": [
      "Loading 07_ADIPOSE_CLUSTER_1...\n"
     ]
    },
    {
     "name": "stderr",
     "output_type": "stream",
     "text": [
      "100%|██████████| 247/247 [00:00<00:00, 494.70it/s]\n"
     ]
    },
    {
     "name": "stdout",
     "output_type": "stream",
     "text": [
      "Loading 08_EMPTY_CLUSTER_0...\n"
     ]
    },
    {
     "name": "stderr",
     "output_type": "stream",
     "text": [
      "100%|██████████| 307/307 [00:00<00:00, 605.25it/s]\n"
     ]
    },
    {
     "name": "stdout",
     "output_type": "stream",
     "text": [
      "Loading 08_EMPTY_CLUSTER_1...\n"
     ]
    },
    {
     "name": "stderr",
     "output_type": "stream",
     "text": [
      "100%|██████████| 318/318 [00:00<00:00, 559.75it/s]\n"
     ]
    },
    {
     "name": "stdout",
     "output_type": "stream",
     "text": [
      "Done\n"
     ]
    }
   ],
   "source": [
    "X_decomp, y_decomp, NUM_CLASSES_DECOMP = load_data(DATA_DIR_DECOMP, skip_classes=[], test_split=0, \n",
    "                              shuffle=True, random_state=random_state)"
   ]
  },
  {
   "cell_type": "code",
   "execution_count": null,
   "metadata": {
    "colab": {
     "base_uri": "https://localhost:8080/"
    },
    "executionInfo": {
     "elapsed": 18,
     "status": "ok",
     "timestamp": 1651931734730,
     "user": {
      "displayName": "S",
      "userId": "17849737988723580670"
     },
     "user_tz": -60
    },
    "id": "2SkllK_ukwNi",
    "outputId": "e692afe3-81c9-418e-a7c9-c136b5583b2c"
   },
   "outputs": [
    {
     "data": {
      "text/plain": [
       "16"
      ]
     },
     "execution_count": 26,
     "metadata": {},
     "output_type": "execute_result"
    }
   ],
   "source": [
    "NUM_CLASSES_DECOMP"
   ]
  },
  {
   "cell_type": "code",
   "execution_count": null,
   "metadata": {
    "id": "YIOP5iGFIwB1"
   },
   "outputs": [],
   "source": [
    "experiment_name = \"Xception_finetune_detrac\""
   ]
  },
  {
   "cell_type": "code",
   "execution_count": null,
   "metadata": {
    "id": "5YyZnIqoUI1P"
   },
   "outputs": [],
   "source": [
    "base_params = {\n",
    "    'model_func': Xception, \n",
    "    'base_trainable': True, \n",
    "    'freeze_before': \"block14\"\n",
    "}\n",
    "dense_params = {\n",
    "    'n_hidden': 1024,\n",
    "    'dropout': 0,\n",
    "    'activation': 'relu', \n",
    "    'kernel_reg': 'l1'\n",
    "}\n",
    "\n",
    "lr_params = {\n",
    "    'learning_rate': 1e-2,\n",
    "    'momentum': 0.9\n",
    "}\n",
    "lr_params_a = {\n",
    "    'learning_rate': 1e-3,\n",
    "    'momentum': 0.9\n",
    "}\n",
    "other_params = {\n",
    "    'cv_splits': 10\n",
    "    'epochs': 40,\n",
    "    'batch_size': 32,\n",
    "    'epochs_a': 7\n",
    "}\n",
    "\n",
    "decay_params = {\n",
    "    'decay_factor': 0.9,\n",
    "    'decay_rate': 10\n",
    "}"
   ]
  },
  {
   "cell_type": "code",
   "execution_count": null,
   "metadata": {
    "id": "Aln26yEWpi7X"
   },
   "outputs": [],
   "source": [
    "OPTIM_FN = SGD\n",
    "step_decay = get_decay_fn(**decay_params)\n",
    "LR_SCHEDULE = LearningRateScheduler(step_decay)"
   ]
  },
  {
   "cell_type": "code",
   "execution_count": null,
   "metadata": {
    "id": "akD-D2sg2_Po"
   },
   "outputs": [],
   "source": [
    "# base = get_base(**base_params)"
   ]
  },
  {
   "cell_type": "code",
   "execution_count": null,
   "metadata": {
    "id": "-qq4SDl93d_1"
   },
   "outputs": [],
   "source": [
    "# print_model_summary(base, NUM_CLASSES, dense_params)"
   ]
  },
  {
   "cell_type": "code",
   "execution_count": null,
   "metadata": {
    "id": "JyhcJz3mTX54"
   },
   "outputs": [],
   "source": [
    "histories_detrac, clf_reports_detrac, histories_auto, clf_reports_auto = run_experiment(\n",
    "    X_decomp, y_decomp, X_norm, y_norm, NUM_CLASSES_DECOMP, NUM_CLASSES_NORM, \n",
    "    OPTIM_FN, LR_SCHEDULE, base_params, dense_params, lr_params, lr_params_a, **other_params,\n",
    "    random_state=123)\n",
    "\n",
    "# DOUBLE CHECK BASE OUTPUT AND PREPROCESSING REQS"
   ]
  },
  {
   "cell_type": "code",
   "execution_count": null,
   "metadata": {
    "colab": {
     "base_uri": "https://localhost:8080/"
    },
    "executionInfo": {
     "elapsed": 65,
     "status": "ok",
     "timestamp": 1651939132614,
     "user": {
      "displayName": "S",
      "userId": "17849737988723580670"
     },
     "user_tz": -60
    },
    "id": "KdHj_5vwsD9E",
    "outputId": "e0a0cb8c-b949-455c-cae2-e7a025215ba9"
   },
   "outputs": [
    {
     "data": {
      "text/plain": [
       "0.9134"
      ]
     },
     "execution_count": 33,
     "metadata": {},
     "output_type": "execute_result"
    }
   ],
   "source": [
    "np.mean([rep[\"accuracy\"] for rep in clf_reports_detrac])"
   ]
  },
  {
   "cell_type": "code",
   "execution_count": null,
   "metadata": {
    "colab": {
     "base_uri": "https://localhost:8080/"
    },
    "executionInfo": {
     "elapsed": 48,
     "status": "ok",
     "timestamp": 1651939132615,
     "user": {
      "displayName": "S",
      "userId": "17849737988723580670"
     },
     "user_tz": -60
    },
    "id": "66Fq8TKlcrwd",
    "outputId": "b4ea4348-2241-44ed-f2ab-5d9ea6f81be9"
   },
   "outputs": [
    {
     "data": {
      "text/plain": [
       "0.9246000000000001"
      ]
     },
     "execution_count": 34,
     "metadata": {},
     "output_type": "execute_result"
    }
   ],
   "source": [
    "np.mean([rep[\"accuracy\"] for rep in clf_reports_auto])"
   ]
  }
 ],
 "metadata": {
  "accelerator": "GPU",
  "colab": {
   "collapsed_sections": [],
   "machine_shape": "hm",
   "name": "Copy of detrac experiments.ipynb",
   "provenance": [
    {
     "file_id": "11vknkNd1ZOd7stfeGqQXBvfyej1TG7Q5",
     "timestamp": 1651760622980
    }
   ]
  },
  "kernelspec": {
   "display_name": "Python 3 (ipykernel)",
   "language": "python",
   "name": "python3"
  },
  "language_info": {
   "codemirror_mode": {
    "name": "ipython",
    "version": 3
   },
   "file_extension": ".py",
   "mimetype": "text/x-python",
   "name": "python",
   "nbconvert_exporter": "python",
   "pygments_lexer": "ipython3",
   "version": "3.9.13"
  }
 },
 "nbformat": 4,
 "nbformat_minor": 1
}
